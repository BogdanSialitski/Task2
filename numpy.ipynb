{
  "cells": [
    {
      "cell_type": "markdown",
      "id": "d3df79dd",
      "metadata": {
        "id": "d3df79dd"
      },
      "source": [
        "## Упражнения по библиотеке Numpy"
      ]
    },
    {
      "cell_type": "code",
      "execution_count": null,
      "id": "76b9c43b",
      "metadata": {
        "id": "76b9c43b"
      },
      "outputs": [],
      "source": [
        "import numpy as np"
      ]
    },
    {
      "cell_type": "markdown",
      "id": "03727b7c",
      "metadata": {
        "id": "03727b7c"
      },
      "source": [
        "**1.** Дан случайный массив, поменять знак у элементов, значения которых между 3 и 8"
      ]
    },
    {
      "cell_type": "code",
      "execution_count": null,
      "id": "b89a7523",
      "metadata": {
        "colab": {
          "base_uri": "https://localhost:8080/"
        },
        "id": "b89a7523",
        "outputId": "bcf17d43-7363-41ac-af48-eeb710e9f80d"
      },
      "outputs": [
        {
          "output_type": "stream",
          "name": "stdout",
          "text": [
            "[0 1 2 3 4 5 6 7 8 9]\n"
          ]
        },
        {
          "output_type": "execute_result",
          "data": {
            "text/plain": [
              "array([ 0,  1,  2,  3, -4, -5, -6, -7,  8,  9])"
            ]
          },
          "metadata": {},
          "execution_count": 131
        }
      ],
      "source": [
        "arr = np.arange(10)\n",
        "print(arr)\n",
        "\n",
        "arr[(arr>3) & (arr<8)] *= -1\n",
        "arr"
      ]
    },
    {
      "cell_type": "markdown",
      "id": "5fa4abda",
      "metadata": {
        "id": "5fa4abda"
      },
      "source": [
        "**2.** Заменить максимальный элемент случайного массива на 0"
      ]
    },
    {
      "cell_type": "code",
      "execution_count": null,
      "id": "f2788a6e",
      "metadata": {
        "colab": {
          "base_uri": "https://localhost:8080/"
        },
        "id": "f2788a6e",
        "outputId": "231f5774-3a76-4429-c232-540104c46f8d"
      },
      "outputs": [
        {
          "output_type": "execute_result",
          "data": {
            "text/plain": [
              "array([ 0,  1,  2,  3, -4, -5, -6, -7,  8,  0])"
            ]
          },
          "metadata": {},
          "execution_count": 132
        }
      ],
      "source": [
        "arr[np.argmax(arr)] = 0\n",
        "arr"
      ]
    },
    {
      "cell_type": "markdown",
      "id": "3cac656b",
      "metadata": {
        "id": "3cac656b"
      },
      "source": [
        "**3.** Построить прямое произведение массивов (все комбинации с каждым элементом). На вход подается двумерный массив"
      ]
    },
    {
      "cell_type": "code",
      "source": [
        "arrays = ([[1,2,3],[4,5],[6]])\n",
        "res = np.array(np.meshgrid(*arrays))\n",
        "mesh.T.reshape(-1, len(arrays))"
      ],
      "metadata": {
        "colab": {
          "base_uri": "https://localhost:8080/"
        },
        "id": "WiowZ35nrqgz",
        "outputId": "ebd8a1e3-8761-4346-e12e-caaf266cffba"
      },
      "id": "WiowZ35nrqgz",
      "execution_count": null,
      "outputs": [
        {
          "output_type": "execute_result",
          "data": {
            "text/plain": [
              "array([[1, 4, 7],\n",
              "       [1, 5, 7],\n",
              "       [2, 4, 7],\n",
              "       [2, 5, 7],\n",
              "       [3, 4, 7],\n",
              "       [3, 5, 7],\n",
              "       [1, 4, 8],\n",
              "       [1, 5, 8],\n",
              "       [2, 4, 8],\n",
              "       [2, 5, 8],\n",
              "       [3, 4, 8],\n",
              "       [3, 5, 8],\n",
              "       [1, 4, 9],\n",
              "       [1, 5, 9],\n",
              "       [2, 4, 9],\n",
              "       [2, 5, 9],\n",
              "       [3, 4, 9],\n",
              "       [3, 5, 9]])"
            ]
          },
          "metadata": {},
          "execution_count": 134
        }
      ]
    },
    {
      "cell_type": "markdown",
      "id": "674c9354",
      "metadata": {
        "id": "674c9354"
      },
      "source": [
        "**4.** Даны 2 массива A (8x3) и B (2x2). Найти строки в A, которые содержат элементы из каждой строки в B, независимо от порядка элементов в B"
      ]
    },
    {
      "cell_type": "code",
      "execution_count": null,
      "id": "cb664782",
      "metadata": {
        "id": "cb664782",
        "colab": {
          "base_uri": "https://localhost:8080/"
        },
        "outputId": "ba1808be-92e3-4ca0-973d-7e1480bbc26b"
      },
      "outputs": [
        {
          "output_type": "stream",
          "name": "stdout",
          "text": [
            "[[ 0  1  2]\n",
            " [ 2  0  5]\n",
            " [ 6  7  8]\n",
            " [ 9 10 11]\n",
            " [ 2  1  5]\n",
            " [15 16 17]\n",
            " [18 19 20]\n",
            " [21 22 23]]\n",
            "[[0 1]\n",
            " [2 5]]\n"
          ]
        },
        {
          "output_type": "execute_result",
          "data": {
            "text/plain": [
              "array([[0, 1, 2],\n",
              "       [2, 0, 5],\n",
              "       [2, 1, 5]])"
            ]
          },
          "metadata": {},
          "execution_count": 135
        }
      ],
      "source": [
        "A = np.array([[0,1,2], [2,0,5], [6,7,8], [9,10,11], [2,1,5], [15,16,17], [18,19,20], [21,22,23]])\n",
        "B = np.array([[0,1],[2,5]])\n",
        "print(A)\n",
        "print(B)\n",
        "A[np.isin(A,B).all(axis=1)]"
      ]
    },
    {
      "cell_type": "markdown",
      "id": "fa46533b",
      "metadata": {
        "id": "fa46533b"
      },
      "source": [
        "**5.** Дана 10x3 матрица, найти строки из неравных значений (например строка [2,2,3] остается, строка [3,3,3] удаляется)"
      ]
    },
    {
      "cell_type": "code",
      "execution_count": null,
      "id": "fa545b23",
      "metadata": {
        "id": "fa545b23",
        "colab": {
          "base_uri": "https://localhost:8080/"
        },
        "outputId": "ac7afc9d-db09-46ff-f4a2-e173ba2cfdbe"
      },
      "outputs": [
        {
          "output_type": "execute_result",
          "data": {
            "text/plain": [
              "array([[1, 2, 3],\n",
              "       [4, 5, 4]])"
            ]
          },
          "metadata": {},
          "execution_count": 136
        }
      ],
      "source": [
        "a = np.array([[1,2,3], [4,4,4], [4,5,4]])\n",
        "a[np.any(a != a[:, [0]], axis=1)]"
      ]
    },
    {
      "cell_type": "markdown",
      "id": "28f0d116",
      "metadata": {
        "id": "28f0d116"
      },
      "source": [
        "**6.** Дан двумерный массив. Удалить те строки, которые повторяются"
      ]
    },
    {
      "cell_type": "code",
      "source": [
        "a = np.array([[1,2],[3,4],[1,2],[7,8]])\n",
        "print(a)\n",
        "a = np.unique(a,axis=0)\n",
        "print(a)"
      ],
      "metadata": {
        "colab": {
          "base_uri": "https://localhost:8080/"
        },
        "id": "w9f0_5OJSvq3",
        "outputId": "03f396a9-7b65-404f-b920-79656774fb46"
      },
      "id": "w9f0_5OJSvq3",
      "execution_count": null,
      "outputs": [
        {
          "output_type": "stream",
          "name": "stdout",
          "text": [
            "[[1 2]\n",
            " [3 4]\n",
            " [1 2]\n",
            " [7 8]]\n",
            "[[1 2]\n",
            " [3 4]\n",
            " [7 8]]\n"
          ]
        }
      ]
    },
    {
      "cell_type": "markdown",
      "id": "6daa9e37",
      "metadata": {
        "id": "6daa9e37"
      },
      "source": [
        "______\n",
        "______"
      ]
    },
    {
      "cell_type": "markdown",
      "id": "cfbfcaff",
      "metadata": {
        "id": "cfbfcaff"
      },
      "source": [
        "Для каждой из следующих задач (1-5) нужно привести 2 реализации – одна без использования numpy (cчитайте, что там, где на входе или выходе должны быть numpy array, будут просто списки), а вторая полностью векторизованная с использованием numpy (без использования питоновских циклов/map/list comprehension).\n",
        "\n",
        "\n",
        "__Замечание 1.__ Можно считать, что все указанные объекты непустые (к примеру, в __задаче 1__ на диагонали матрицы есть ненулевые элементы).\n",
        "\n",
        "__Замечание 2.__ Для большинства задач решение занимает не больше 1-2 строк."
      ]
    },
    {
      "cell_type": "markdown",
      "id": "673cac7f",
      "metadata": {
        "id": "673cac7f"
      },
      "source": [
        "___"
      ]
    },
    {
      "cell_type": "markdown",
      "id": "ca6f585e",
      "metadata": {
        "id": "ca6f585e"
      },
      "source": [
        "* __Задача 1__: Подсчитать произведение ненулевых элементов на диагонали прямоугольной матрицы.  \n",
        " Например, для X = np.array([[1, 0, 1], [2, 0, 2], [3, 0, 3], [4, 4, 4]]) ответ 3."
      ]
    },
    {
      "cell_type": "code",
      "execution_count": null,
      "id": "065862fc",
      "metadata": {
        "id": "065862fc",
        "colab": {
          "base_uri": "https://localhost:8080/"
        },
        "outputId": "5d232694-33c4-4741-c55f-1091c35d4733"
      },
      "outputs": [
        {
          "output_type": "stream",
          "name": "stdout",
          "text": [
            "3\n"
          ]
        }
      ],
      "source": [
        "def mat_prod(matrix):\n",
        "  prod = 1\n",
        "  for i in range(min(len(matrix), len(matrix[0]))):\n",
        "    if matrix[i][i] != 0:\n",
        "      prod *= matrix[i][i]\n",
        "  return prod\n",
        "\n",
        "X = [[1, 0, 1], [2, 0, 2], [3, 0, 3], [4, 4, 4]]\n",
        "print(mat_prod(X))"
      ]
    },
    {
      "cell_type": "code",
      "source": [
        "xn = np.array([[1, 0, 1], [2, 0, 2], [3, 0, 3], [4, 4, 4]])\n",
        "a = np.diag(xn)\n",
        "a[a != 0].prod()"
      ],
      "metadata": {
        "id": "4aVwiVyUKL3p",
        "colab": {
          "base_uri": "https://localhost:8080/"
        },
        "outputId": "b619516d-3823-4602-bcce-ca798ba2d190"
      },
      "id": "4aVwiVyUKL3p",
      "execution_count": null,
      "outputs": [
        {
          "output_type": "execute_result",
          "data": {
            "text/plain": [
              "3"
            ]
          },
          "metadata": {},
          "execution_count": 139
        }
      ]
    },
    {
      "cell_type": "markdown",
      "id": "9fc51d41",
      "metadata": {
        "id": "9fc51d41"
      },
      "source": [
        "* __Задача 2__: Даны два вектора x и y. Проверить, задают ли они одно и то же мультимножество.  \n",
        "  Например, для x = np.array([1, 2, 2, 4]), y = np.array([4, 2, 1, 2]) ответ True."
      ]
    },
    {
      "cell_type": "code",
      "source": [
        "x1 = [1, 2, 2, 4]\n",
        "y1 = [4, 2, 1, 2]\n",
        "\n",
        "def multi(x, y):\n",
        "    if len(x) != len(y):\n",
        "        return False\n",
        "\n",
        "    x_sorted = sorted(x)\n",
        "    y_sorted = sorted(y)\n",
        "\n",
        "    return x_sorted == y_sorted\n",
        "\n",
        "result = multi(x1, y1)\n",
        "print(result)\n"
      ],
      "metadata": {
        "colab": {
          "base_uri": "https://localhost:8080/"
        },
        "id": "L-ATf-SDsDZ-",
        "outputId": "fb68f36d-0f03-45df-af7c-f5cb6a35c8a9"
      },
      "id": "L-ATf-SDsDZ-",
      "execution_count": null,
      "outputs": [
        {
          "output_type": "stream",
          "name": "stdout",
          "text": [
            "True\n"
          ]
        }
      ]
    },
    {
      "cell_type": "code",
      "source": [
        "x1 = np.array([1, 2, 2, 4])\n",
        "y1 = np.array([4, 2, 1, 2])\n",
        "(np.unique(x1, return_counts=True)[1] == np.unique(y1, return_counts=True)[1]).all()"
      ],
      "metadata": {
        "id": "e1AaODZOBZNG",
        "colab": {
          "base_uri": "https://localhost:8080/"
        },
        "outputId": "c24454c8-7831-48ac-cd84-d5ad6c66d733"
      },
      "id": "e1AaODZOBZNG",
      "execution_count": null,
      "outputs": [
        {
          "output_type": "execute_result",
          "data": {
            "text/plain": [
              "True"
            ]
          },
          "metadata": {},
          "execution_count": 142
        }
      ]
    },
    {
      "cell_type": "markdown",
      "id": "b9c185c7",
      "metadata": {
        "id": "b9c185c7"
      },
      "source": [
        "* __Задача 3__: Найти максимальный элемент в векторе x среди элементов, перед которыми стоит ноль.\n",
        " Например, для x = np.array([6, 2, 0, 3, 0, 0, 5, 7, 0]) ответ 5."
      ]
    },
    {
      "cell_type": "code",
      "source": [
        "n = np.array([6, 2, 0, 3, 0, 0, 5, 7, 0])\n",
        "def find_max(x):\n",
        "    max = None\n",
        "    for i in range(1, len(x)):\n",
        "        if x[i-1] == 0 and (max is None or x[i] > max):\n",
        "            max = x[i]\n",
        "\n",
        "    return max\n",
        "find_max(n)"
      ],
      "metadata": {
        "colab": {
          "base_uri": "https://localhost:8080/"
        },
        "id": "97o5vBnKu8oc",
        "outputId": "50bb85fb-c983-4423-94ff-5b5c3874cf6f"
      },
      "id": "97o5vBnKu8oc",
      "execution_count": null,
      "outputs": [
        {
          "output_type": "execute_result",
          "data": {
            "text/plain": [
              "5"
            ]
          },
          "metadata": {},
          "execution_count": 143
        }
      ]
    },
    {
      "cell_type": "code",
      "source": [
        "indexs = np.where(n[:len(n)-1]==0)"
      ],
      "metadata": {
        "id": "rHxAo9t3OIp3"
      },
      "id": "rHxAo9t3OIp3",
      "execution_count": null,
      "outputs": []
    },
    {
      "cell_type": "code",
      "source": [
        "indexs = np.array(indexs)"
      ],
      "metadata": {
        "id": "7ZCABss7pfFj"
      },
      "id": "7ZCABss7pfFj",
      "execution_count": null,
      "outputs": []
    },
    {
      "cell_type": "code",
      "source": [
        "np.max(n[indexs+1])"
      ],
      "metadata": {
        "colab": {
          "base_uri": "https://localhost:8080/"
        },
        "id": "YooV5ltfqdWj",
        "outputId": "8ec3e7a3-2074-4ab7-bd75-1bfece712c9e"
      },
      "id": "YooV5ltfqdWj",
      "execution_count": null,
      "outputs": [
        {
          "output_type": "execute_result",
          "data": {
            "text/plain": [
              "5"
            ]
          },
          "metadata": {},
          "execution_count": 146
        }
      ]
    },
    {
      "cell_type": "markdown",
      "id": "480be4ce",
      "metadata": {
        "id": "480be4ce"
      },
      "source": [
        "* __Задача 4__: Реализовать кодирование длин серий (Run-length encoding). Для некоторого вектора x необходимо вернуть кортеж из двух векторов одинаковой длины. Первый содержит числа, а второй - сколько раз их нужно повторить.  \n",
        " Например, для x = np.array([2, 2, 2, 3, 3, 3, 5]) ответ (np.array([2, 3, 5]), np.array([3, 3, 1]))."
      ]
    },
    {
      "cell_type": "code",
      "source": [
        "def run_length(x):\n",
        "    x = sorted(x)\n",
        "    values = []\n",
        "    lengths = []\n",
        "    current_value = x[0]\n",
        "    current_length = 1\n",
        "    for i in range(1, len(x)):\n",
        "        if x[i] == current_value:\n",
        "            current_length += 1\n",
        "        else:\n",
        "            values.append(current_value)\n",
        "            lengths.append(current_length)\n",
        "            current_value = x[i]\n",
        "            current_length = 1\n",
        "\n",
        "    values.append(current_value)\n",
        "    lengths.append(current_length)\n",
        "\n",
        "    return values, lengths\n",
        "\n",
        "x = [2, 3, 2, 3, 2, 5, 3]\n",
        "run_length(x)"
      ],
      "metadata": {
        "colab": {
          "base_uri": "https://localhost:8080/"
        },
        "id": "2XKDZpeEiwUL",
        "outputId": "e045d6bb-2c6d-4a17-be97-66c12fb9f5fc"
      },
      "id": "2XKDZpeEiwUL",
      "execution_count": null,
      "outputs": [
        {
          "output_type": "execute_result",
          "data": {
            "text/plain": [
              "([2, 3, 5], [3, 3, 1])"
            ]
          },
          "metadata": {},
          "execution_count": 147
        }
      ]
    },
    {
      "cell_type": "code",
      "execution_count": null,
      "id": "3c592124",
      "metadata": {
        "id": "3c592124",
        "colab": {
          "base_uri": "https://localhost:8080/"
        },
        "outputId": "011b790e-8f90-4df0-85b1-e2d4a5d00019"
      },
      "outputs": [
        {
          "output_type": "execute_result",
          "data": {
            "text/plain": [
              "(array([2, 3, 5]), array([3, 3, 1]))"
            ]
          },
          "metadata": {},
          "execution_count": 148
        }
      ],
      "source": [
        "x = np.array( [2, 3, 2, 3, 2, 5, 3])\n",
        "np.unique(x, return_counts=True)"
      ]
    },
    {
      "cell_type": "markdown",
      "id": "077532ec",
      "metadata": {
        "id": "077532ec"
      },
      "source": [
        "* __Задача 5__: Даны две выборки объектов - X и Y. Вычислить матрицу евклидовых расстояний между объектами. Сравните с функцией scipy.spatial.distance.cdist по скорости работы."
      ]
    },
    {
      "cell_type": "code",
      "source": [
        "import time\n",
        "from scipy.spatial import distance\n",
        "import math\n",
        "\n",
        "X = np.array([[1, 2, 3], [4, 5, 6], [7, 8, 9]])\n",
        "Y = np.array([[10, 20, 30], [40, 50, 60], [70, 80, 90]])"
      ],
      "metadata": {
        "id": "cWukHGs2UxGR"
      },
      "id": "cWukHGs2UxGR",
      "execution_count": null,
      "outputs": []
    },
    {
      "cell_type": "code",
      "source": [
        "def euc(x, y):\n",
        "    distance = 0\n",
        "    for xi, yi in zip(x, y):\n",
        "        distance += (xi - yi) ** 2\n",
        "    return math.sqrt(distance)\n",
        "\n",
        "\n",
        "def matrix_euc(X, Y):\n",
        "    distance_matrix = []\n",
        "    for x in X:\n",
        "        row = []\n",
        "        for y in Y:\n",
        "            row.append(euc(x, y))\n",
        "        distance_matrix.append(row)\n",
        "    return distance_matrix\n",
        "\n",
        "start = time.time()\n",
        "display(matrix_euc(X, Y))\n",
        "end = time.time()\n",
        "end - start\n"
      ],
      "metadata": {
        "colab": {
          "base_uri": "https://localhost:8080/",
          "height": 86
        },
        "id": "atq1IHQcaHom",
        "outputId": "87cb0381-6c7c-4bf0-b694-ddd7026f231c"
      },
      "id": "atq1IHQcaHom",
      "execution_count": null,
      "outputs": [
        {
          "output_type": "display_data",
          "data": {
            "text/plain": [
              "[[33.67491648096547, 84.10707461325711, 135.6981945347837],\n",
              " [28.930952282978865, 78.9746794865291, 130.52585950684255],\n",
              " [24.372115213907882, 73.85120175054702, 125.35549449465708]]"
            ]
          },
          "metadata": {}
        },
        {
          "output_type": "execute_result",
          "data": {
            "text/plain": [
              "0.002947568893432617"
            ]
          },
          "metadata": {},
          "execution_count": 78
        }
      ]
    },
    {
      "cell_type": "code",
      "execution_count": null,
      "id": "1e807797",
      "metadata": {
        "id": "1e807797",
        "colab": {
          "base_uri": "https://localhost:8080/"
        },
        "outputId": "13190912-9ebd-4eae-ae4c-52db7cb0022d"
      },
      "outputs": [
        {
          "output_type": "stream",
          "name": "stdout",
          "text": [
            "[[ 33.67491648  84.10707461 135.69819453]\n",
            " [ 28.93095228  78.97467949 130.52585951]\n",
            " [ 24.37211521  73.85120175 125.35549449]]\n"
          ]
        },
        {
          "output_type": "execute_result",
          "data": {
            "text/plain": [
              "0.0011897087097167969"
            ]
          },
          "metadata": {},
          "execution_count": 79
        }
      ],
      "source": [
        "start = time.time()\n",
        "print(np.sqrt(np.sum((X[:,None] - Y) ** 2, axis=2)))\n",
        "end = time.time()\n",
        "end - start"
      ]
    },
    {
      "cell_type": "code",
      "source": [
        "start = time.time()\n",
        "print(distance.cdist(X, Y),'euclidean')\n",
        "end = time.time()\n",
        "end - start"
      ],
      "metadata": {
        "colab": {
          "base_uri": "https://localhost:8080/"
        },
        "id": "vkrN1mrHcxw2",
        "outputId": "d3f5fc52-914d-4203-d05a-b35c3a794281"
      },
      "id": "vkrN1mrHcxw2",
      "execution_count": null,
      "outputs": [
        {
          "output_type": "stream",
          "name": "stdout",
          "text": [
            "[[ 33.67491648  84.10707461 135.69819453]\n",
            " [ 28.93095228  78.97467949 130.52585951]\n",
            " [ 24.37211521  73.85120175 125.35549449]] euclidean\n"
          ]
        },
        {
          "output_type": "execute_result",
          "data": {
            "text/plain": [
              "0.0007340908050537109"
            ]
          },
          "metadata": {},
          "execution_count": 80
        }
      ]
    },
    {
      "cell_type": "markdown",
      "id": "973e8064",
      "metadata": {
        "id": "973e8064"
      },
      "source": [
        "_______\n",
        "________"
      ]
    },
    {
      "cell_type": "markdown",
      "id": "1104acb7",
      "metadata": {
        "id": "1104acb7"
      },
      "source": [
        "* #### __Задача 6__: CrunchieMunchies __*__\n",
        "\n",
        "Вы работаете в отделе маркетинга пищевой компании MyCrunch, которая разрабатывает новый вид вкусных, полезных злаков под названием **CrunchieMunchies**.\n",
        "\n",
        "Вы хотите продемонстрировать потребителям, насколько полезны ваши хлопья по сравнению с другими ведущими брендами, поэтому вы собрали данные о питании нескольких разных конкурентов.\n",
        "\n",
        "Ваша задача - использовать вычисления Numpy для анализа этих данных и доказать, что ваши **СrunchieMunchies** - самый здоровый выбор для потребителей.\n"
      ]
    },
    {
      "cell_type": "code",
      "execution_count": null,
      "id": "10a77f8d",
      "metadata": {
        "id": "10a77f8d"
      },
      "outputs": [],
      "source": [
        "import numpy as np"
      ]
    },
    {
      "cell_type": "markdown",
      "id": "ab87cb03",
      "metadata": {
        "id": "ab87cb03"
      },
      "source": [
        "1. Просмотрите файл cereal.csv. Этот файл содержит количества калорий для различных марок хлопьев. Загрузите данные из файла и сохраните их как calorie_stats."
      ]
    },
    {
      "cell_type": "code",
      "execution_count": null,
      "id": "9681ebf2",
      "metadata": {
        "id": "9681ebf2",
        "outputId": "fc22ed51-7b40-4529-e70f-999c93d65eed",
        "colab": {
          "base_uri": "https://localhost:8080/"
        }
      },
      "outputs": [
        {
          "output_type": "execute_result",
          "data": {
            "text/plain": [
              "array([ 70., 120.,  70.,  50., 110., 110., 110., 130.,  90.,  90., 120.,\n",
              "       110., 120., 110., 110., 110., 100., 110., 110., 110., 100., 110.,\n",
              "       100., 100., 110., 110., 100., 120., 120., 110., 100., 110., 100.,\n",
              "       110., 120., 120., 110., 110., 110., 140., 110., 100., 110., 100.,\n",
              "       150., 150., 160., 100., 120., 140.,  90., 130., 120., 100.,  50.,\n",
              "        50., 100., 100., 120., 100.,  90., 110., 110.,  80.,  90.,  90.,\n",
              "       110., 110.,  90., 110., 140., 100., 110., 110., 100., 100., 110.])"
            ]
          },
          "metadata": {},
          "execution_count": 153
        }
      ],
      "source": [
        "calorie_stats = np.loadtxt(\"/content/sample_data/cereal.csv\", delimiter=\",\")\n",
        "calorie_stats"
      ]
    },
    {
      "cell_type": "markdown",
      "id": "139cfbd8",
      "metadata": {
        "id": "139cfbd8"
      },
      "source": [
        "2. В одной порции CrunchieMunchies содержится 60 калорий. Насколько выше среднее количество калорий у ваших конкурентов?\n",
        "\n",
        "Сохраните ответ в переменной average_calories и распечатайте переменную в терминале"
      ]
    },
    {
      "cell_type": "code",
      "execution_count": null,
      "id": "7036d240",
      "metadata": {
        "id": "7036d240",
        "colab": {
          "base_uri": "https://localhost:8080/"
        },
        "outputId": "20fc9d42-7ca8-48e2-b908-b5c76b3597a6"
      },
      "outputs": [
        {
          "output_type": "execute_result",
          "data": {
            "text/plain": [
              "106.88311688311688"
            ]
          },
          "metadata": {},
          "execution_count": 154
        }
      ],
      "source": [
        "average_calories = calorie_stats.mean()\n",
        "average_calories"
      ]
    },
    {
      "cell_type": "markdown",
      "id": "b2ddb4cd",
      "metadata": {
        "id": "b2ddb4cd"
      },
      "source": [
        "3. Корректно ли среднее количество калорий отражает распределение набора данных? Давайте отсортируем данные и посмотрим.\n",
        "\n",
        "Отсортируйте данные и сохраните результат в переменной calorie_stats_sorted. Распечатайте отсортированную информацию"
      ]
    },
    {
      "cell_type": "code",
      "execution_count": null,
      "id": "46eeb4ed",
      "metadata": {
        "id": "46eeb4ed",
        "colab": {
          "base_uri": "https://localhost:8080/"
        },
        "outputId": "d09ef9d4-cad1-468a-e835-e2107e9a9619"
      },
      "outputs": [
        {
          "output_type": "execute_result",
          "data": {
            "text/plain": [
              "array([ 50.,  50.,  50.,  70.,  70.,  80.,  90.,  90.,  90.,  90.,  90.,\n",
              "        90.,  90., 100., 100., 100., 100., 100., 100., 100., 100., 100.,\n",
              "       100., 100., 100., 100., 100., 100., 100., 100., 110., 110., 110.,\n",
              "       110., 110., 110., 110., 110., 110., 110., 110., 110., 110., 110.,\n",
              "       110., 110., 110., 110., 110., 110., 110., 110., 110., 110., 110.,\n",
              "       110., 110., 110., 110., 120., 120., 120., 120., 120., 120., 120.,\n",
              "       120., 120., 120., 130., 130., 140., 140., 140., 150., 150., 160.])"
            ]
          },
          "metadata": {},
          "execution_count": 155
        }
      ],
      "source": [
        "calorie_stats_sorted = np.sort(calorie_stats)\n",
        "calorie_stats_sorted"
      ]
    },
    {
      "cell_type": "markdown",
      "id": "4dc74116",
      "metadata": {
        "id": "4dc74116"
      },
      "source": [
        "4. Похоже, что большинство значений выше среднего. Давайте посмотрим, является ли медиана наиболее корректным показателем набора данных.\n",
        "\n",
        "Вычислите медиану набора данных и сохраните свой ответ в median_calories. Выведите медиану, чтобы вы могли видеть, как она сравнивается со средним значением."
      ]
    },
    {
      "cell_type": "code",
      "execution_count": null,
      "id": "b56627c3",
      "metadata": {
        "id": "b56627c3",
        "colab": {
          "base_uri": "https://localhost:8080/"
        },
        "outputId": "65370b3b-8020-41d0-93f9-dc512f03e7ad"
      },
      "outputs": [
        {
          "output_type": "execute_result",
          "data": {
            "text/plain": [
              "110.0"
            ]
          },
          "metadata": {},
          "execution_count": 156
        }
      ],
      "source": [
        "median_calories = np.median(calorie_stats_sorted)\n",
        "median_calories"
      ]
    },
    {
      "cell_type": "markdown",
      "id": "a63ab72f",
      "metadata": {
        "id": "a63ab72f"
      },
      "source": [
        "5. В то время как медиана показывает, что по крайней мере половина наших значений составляет более 100 калорий, было бы более впечатляюще показать, что значительная часть конкурентов имеет более высокое количество калорий, чем CrunchieMunchies.\n",
        "\n",
        "Рассчитайте различные процентили и распечатайте их, пока не найдете наименьший процентиль, превышающий 60 калорий. Сохраните это значение в переменной nth_percentile."
      ]
    },
    {
      "cell_type": "code",
      "execution_count": null,
      "id": "fe80ce03",
      "metadata": {
        "id": "fe80ce03",
        "colab": {
          "base_uri": "https://localhost:8080/"
        },
        "outputId": "3f731e47-fe27-46a7-8219-d7a09582f13f"
      },
      "outputs": [
        {
          "output_type": "execute_result",
          "data": {
            "text/plain": [
              "60.16"
            ]
          },
          "metadata": {},
          "execution_count": 157
        }
      ],
      "source": [
        "nth_percentile = np.percentile(calorie_stats_sorted, 3.3)\n",
        "nth_percentile"
      ]
    },
    {
      "cell_type": "markdown",
      "id": "a2a3c5aa",
      "metadata": {
        "id": "a2a3c5aa"
      },
      "source": [
        "6. Хотя процентиль показывает нам, что у большинства конкурентов количество калорий намного выше, это неудобная концепция для использования в маркетинговых материалах.\n",
        "\n",
        "Вместо этого давайте подсчитаем процент хлопьев, в которых содержится более 60 калорий на порцию. Сохраните свой ответ в переменной more_calories и распечатайте его"
      ]
    },
    {
      "cell_type": "code",
      "execution_count": null,
      "id": "ade0f6ea",
      "metadata": {
        "id": "ade0f6ea",
        "colab": {
          "base_uri": "https://localhost:8080/"
        },
        "outputId": "186ac130-1a7c-4ab7-e705-ea9459c03427"
      },
      "outputs": [
        {
          "output_type": "execute_result",
          "data": {
            "text/plain": [
              "96.1038961038961"
            ]
          },
          "metadata": {},
          "execution_count": 158
        }
      ],
      "source": [
        "more_calories = len(calorie_stats_sorted[calorie_stats_sorted > 60]) / len(calorie_stats_sorted) * 100\n",
        "more_calories"
      ]
    },
    {
      "cell_type": "markdown",
      "id": "1735d65b",
      "metadata": {
        "id": "1735d65b"
      },
      "source": [
        "7. Это действительно высокий процент. Это будет очень полезно, когда мы будем продвигать CrunchieMunchies. Но один вопрос заключается в том, насколько велики различия в наборе данных? Можем ли мы сделать обобщение, что в большинстве злаков содержится около 100 калорий или разброс еще больше?\n",
        "\n",
        "Рассчитайте величину отклонения, найдя стандартное отклонение, Сохраните свой ответ в calorie_std и распечатайте на терминале. Как мы можем включить эту ценность в наш анализ?"
      ]
    },
    {
      "cell_type": "code",
      "execution_count": null,
      "id": "85c8df1f",
      "metadata": {
        "id": "85c8df1f",
        "colab": {
          "base_uri": "https://localhost:8080/"
        },
        "outputId": "f289ce8e-f068-4ed1-cebb-c7594a243f0c"
      },
      "outputs": [
        {
          "output_type": "execute_result",
          "data": {
            "text/plain": [
              "19.35718533390827"
            ]
          },
          "metadata": {},
          "execution_count": 159
        }
      ],
      "source": [
        "calorie_std = np.std(calorie_stats_sorted)\n",
        "calorie_std"
      ]
    },
    {
      "cell_type": "markdown",
      "id": "037455c5",
      "metadata": {
        "id": "037455c5"
      },
      "source": [
        "8. Напишите короткий абзац, в котором кратко изложите свои выводы и то, как, по вашему мнению, эти данные могут быть использованы в интересах Mycrunch при маркетинге CrunchieMunchies."
      ]
    },
    {
      "cell_type": "markdown",
      "source": [
        "Такое значения стд показывает, что разнообразие в данных есть, однако даже с учетом этого разброса, очень много злаков имеет калорийность больше 60.\n",
        "\n",
        "Думаю, что это данные можно использовать в рекламе, тк они отображают сущетсвенную разницу с конкуртентами."
      ],
      "metadata": {
        "id": "JcJMk-W8i2Kl"
      },
      "id": "JcJMk-W8i2Kl"
    }
  ],
  "metadata": {
    "kernelspec": {
      "display_name": "Python 3 (ipykernel)",
      "language": "python",
      "name": "python3"
    },
    "language_info": {
      "codemirror_mode": {
        "name": "ipython",
        "version": 3
      },
      "file_extension": ".py",
      "mimetype": "text/x-python",
      "name": "python",
      "nbconvert_exporter": "python",
      "pygments_lexer": "ipython3",
      "version": "3.8.10"
    },
    "colab": {
      "provenance": []
    }
  },
  "nbformat": 4,
  "nbformat_minor": 5
}